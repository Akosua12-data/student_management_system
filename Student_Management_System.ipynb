{
 "cells": [
  {
   "cell_type": "code",
   "execution_count": null,
   "id": "743d76e2-8bbe-460b-8f1e-7fb7d1b26004",
   "metadata": {},
   "outputs": [],
   "source": [
    "Importing Libraries"
   ]
  },
  {
   "cell_type": "code",
   "execution_count": 1,
   "id": "614b2d0c-ccd1-4c81-a691-fc9125d68dba",
   "metadata": {},
   "outputs": [],
   "source": [
    "import os \n",
    "import getpass \n",
    "import datetime"
   ]
  },
  {
   "cell_type": "markdown",
   "id": "6d81feab-77ed-4dc2-9cb6-2e3f0b84e872",
   "metadata": {},
   "source": [
    "\n",
    "'''File Paths Configuration*\n",
    "The file paths configuration defines the locations of the files used by the application. These files include:\n",
    "\n",
    "- `USER_FILE`: The file that stores user credentials.\n",
    "- `STUDENT_FILE`: The file that stores student data.\n",
    "- `LOG_FILE`: The file that stores activity logs.\n",
    "'''\n",
    "\n",
    "By defining these file paths in a single location, the application can easily access and modify the files as needed."
   ]
  },
  {
   "cell_type": "code",
   "execution_count": 2,
   "id": "ce4c8338-44fa-42cd-9357-1c5b0264714e",
   "metadata": {},
   "outputs": [],
   "source": [
    "# ------------------------------ \n",
    "# File paths \n",
    "# ------------------------------ \n",
    "USER_FILE = \"users.txt\" \n",
    "STUDENT_FILE = \"students.txt\" \n",
    "LOG_FILE = \"activity_log.txt\" "
   ]
  },
  {
   "cell_type": "markdown",
   "id": "5d128fb8-0903-42e2-ad94-6b1e60e666ca",
   "metadata": {},
   "source": [
    "\n",
    "The following functions handle logging user activities and loading users from a file.\n",
    "\n",
    "- `username`: The username of the user performing the action.\n",
    "- `action`: The action being performed.\n",
    "\n",
    "  \n",
    " current_datetime = datetime.datetime.now().strftime(\"%Y-%m-%d %H:%M:%S\")\n",
    "\n",
    "  \n",
    "\n",
    "\n"
   ]
  },
  {
   "cell_type": "code",
   "execution_count": 18,
   "id": "163030fd-2677-4395-b29e-65594f6c58ad",
   "metadata": {},
   "outputs": [
    {
     "name": "stdout",
     "output_type": "stream",
     "text": [
      "activity_log.txt\n"
     ]
    }
   ],
   "source": [
    "def log_activity(username, action): \n",
    "    \"\"\"Log user actions with timestamp\"\"\" \n",
    "    with open(\"LOG_FILE\", \"a\") as log: \n",
    "        log.write(f\"{datetime.datetime.now()} - {username} - {action}\\n\") \n",
    "    current_datetime = datetime.datetime.now().strftime(\" %Y-%m-%d %H:%M:%S \")\n",
    " \n",
    "def load_users(): \n",
    "    \"\"\"Load users from file into a dictionary\"\"\" \n",
    "    users = {} \n",
    "    if os.path.exists(USER_FILE): \n",
    "        with open(USER_FILE, \"r\") as f: \n",
    "            for line in f: \n",
    "                if \",\" in line: \n",
    "                    uname, pwd = line.strip().split(\",\", 1) \n",
    "                    users[uname] = pwd \n",
    "                    \n",
    "    return users \n",
    "    \n",
    "    # Call the functions\n",
    "log_activity(\"LOG_FILE\", \"USER_FILE\")\n",
    "LOG_FILE = \"activity_log.txt\"\n",
    "print(LOG_FILE)\n",
    "    \n",
    "    \n"
   ]
  },
  {
   "cell_type": "markdown",
   "id": "ae982fd9-07da-4153-aeb2-ceca84a83c81",
   "metadata": {},
   "source": [
    "The following functions handle user authentication and password management.\n",
    "*`save_user` Function*\n",
    "Saves a user to the user file.\n",
    "\n",
    "- `uname`: The username to save.\n",
    "- `pwd`: The password to save."
   ]
  },
  {
   "cell_type": "code",
   "execution_count": 4,
   "id": "b65e5fcc-d8b8-412e-947b-86f5f35e493d",
   "metadata": {},
   "outputs": [
    {
     "name": "stdout",
     "output_type": "stream",
     "text": [
      "Enter new username:  Serwaa\n",
      "Enter new password:  ········\n"
     ]
    },
    {
     "name": "stdout",
     "output_type": "stream",
     "text": [
      "User 'Serwaa' saved successfully.\n"
     ]
    }
   ],
   "source": [
    "def save_user(username, password): \n",
    "    \"\"\"Save new user to the file\"\"\" \n",
    "    with open(USER_FILE, \"a\") as f: \n",
    "        f.write(f\"{username},{password}\\n\") \n",
    "\n",
    "# Call the save_user function\n",
    "username = input(\"Enter new username: \")\n",
    "password = getpass.getpass(\"Enter new password: \")\n",
    "save_user(username, password)\n",
    "print(f\"User '{username}' saved successfully.\")"
   ]
  },
  {
   "cell_type": "markdown",
   "id": "fb95a06a-e00b-4986-833a-5b7c550db549",
   "metadata": {},
   "source": [
    "\n",
    " User Authentication Function:\n",
    "Authenticates a user based on the provided username and password.\n",
    "\n"
   ]
  },
  {
   "cell_type": "code",
   "execution_count": 5,
   "id": "7a2ba28e-56cc-4a1a-afee-5071e355aef0",
   "metadata": {},
   "outputs": [
    {
     "name": "stdout",
     "output_type": "stream",
     "text": [
      "Enter Username:  Serwaa\n",
      "Enter Password:  ········\n"
     ]
    },
    {
     "name": "stdout",
     "output_type": "stream",
     "text": [
      "\n",
      "✅ Login Successful!\n",
      "\n",
      "Welcome, Serwaa!\n"
     ]
    }
   ],
   "source": [
    "def authenticate(): \n",
    "    \"\"\"Authenticate user login\"\"\" \n",
    "    users = load_users() \n",
    "    username = input(\"Enter Username: \") \n",
    "    password = getpass.getpass(\"Enter Password: \") \n",
    " \n",
    "    if username in users and users[username] == password: \n",
    "        log_activity(username, \"Logged in\") \n",
    "        print(\"\\n✅ Login Successful!\\n\") \n",
    "        return username \n",
    "    else: \n",
    "        print(\"\\n❌ Invalid credentials!\\n\") \n",
    "        return None \n",
    "        \n",
    " # Call the authenticate function\n",
    "authenticated_user = authenticate()\n",
    "\n",
    "if authenticated_user:\n",
    "    print(f\"Welcome, {authenticated_user}!\")\n",
    "else:\n",
    "    print(\"Authentication failed.\")"
   ]
  },
  {
   "cell_type": "markdown",
   "id": "0e02feb2-ab9d-4402-a7bb-8cc39770eda5",
   "metadata": {},
   "source": [
    "Add Student Function:\n",
    "Adds a new student to the student database.\n",
    "- `username`: The username of the user adding the student."
   ]
  },
  {
   "cell_type": "code",
   "execution_count": 6,
   "id": "6464f879-e23d-4d51-a88e-b1e6fd719abc",
   "metadata": {},
   "outputs": [
    {
     "name": "stdout",
     "output_type": "stream",
     "text": [
      "Enter Username:  Serwaa\n",
      "Enter Password:  ········\n"
     ]
    },
    {
     "name": "stdout",
     "output_type": "stream",
     "text": [
      "\n",
      "✅ Login Successful!\n",
      "\n"
     ]
    },
    {
     "name": "stdout",
     "output_type": "stream",
     "text": [
      "Enter Roll Number:  3\n",
      "Enter Name:  Akosua Serwaa\n",
      "Enter Grade:  A\n"
     ]
    },
    {
     "name": "stdout",
     "output_type": "stream",
     "text": [
      "✅ Student added successfully!\n"
     ]
    }
   ],
   "source": [
    "def add_student(username): \n",
    "    roll = input(\"Enter Roll Number: \") \n",
    "    name = input(\"Enter Name: \") \n",
    "    grade = input(\"Enter Grade: \") \n",
    " \n",
    "    with open(STUDENT_FILE, \"a\") as f: \n",
    "        f.write(f\"{roll},{name},{grade}\\n\") \n",
    " \n",
    "    log_activity(username, f\"Added student {roll}\") \n",
    "    print(\"✅ Student added successfully!\")\n",
    "    \n",
    " # Call the add_student function\n",
    "authenticated_user = authenticate()\n",
    "if authenticated_user:\n",
    "    add_student(authenticated_user)\n",
    "else:\n",
    "    print(\"Authentication failed.\")"
   ]
  },
  {
   "cell_type": "markdown",
   "id": "26e88bbf-e590-4e62-bddb-a1030295af0e",
   "metadata": {},
   "source": [
    "View Students Function:\n",
    "\n",
    "Displays all student records from the student file.\n"
   ]
  },
  {
   "cell_type": "code",
   "execution_count": 7,
   "id": "946b3c16-061a-4b8a-b7a4-ee0ba3a51f8e",
   "metadata": {},
   "outputs": [
    {
     "name": "stdout",
     "output_type": "stream",
     "text": [
      "\n",
      "--- Student Records ---\n",
      "Roll: 3 | Name: Akosua Serwaa | Grade: A\n"
     ]
    }
   ],
   "source": [
    "def view_students(): \n",
    "    if not os.path.exists(STUDENT_FILE): \n",
    "        print(\"No records found.\") \n",
    "        return \n",
    " \n",
    "    with open(STUDENT_FILE, \"r\") as f: \n",
    "        print(\"\\n--- Student Records ---\") \n",
    "        for line in f: \n",
    "            roll, name, grade = line.strip().split(\",\") \n",
    "            print(f\"Roll: {roll} | Name: {name} | Grade: {grade}\") \n",
    "\n",
    "# Call the view_students function\n",
    "view_students()"
   ]
  },
  {
   "cell_type": "markdown",
   "id": "c2f8b032-75eb-4f3d-8a19-85f28846da65",
   "metadata": {},
   "source": [
    " Search Student Function\n",
    "\n",
    "Searches for a student by roll number and displays their details if found.\n",
    "\n",
    "def search_student():\n",
    "    \"\"\"\n",
    "    Searches for a student by roll number and displays their details if found.\n",
    "    \"\"\" "
   ]
  },
  {
   "cell_type": "code",
   "execution_count": 8,
   "id": "9d548b8a-b55e-4449-aa12-61da03d552bf",
   "metadata": {},
   "outputs": [
    {
     "name": "stdout",
     "output_type": "stream",
     "text": [
      "Enter Roll Number to search:  3\n"
     ]
    },
    {
     "name": "stdout",
     "output_type": "stream",
     "text": [
      "✅ Found: Roll: 3 | Name: Akosua Serwaa | Grade:A\n"
     ]
    }
   ],
   "source": [
    "def search_student(): \n",
    "    roll_no = input(\"Enter Roll Number to search: \") \n",
    "    found = False \n",
    " \n",
    "    if os.path.exists(STUDENT_FILE): \n",
    "        with open(STUDENT_FILE, \"r\") as f: \n",
    "            for line in f: \n",
    "                # Skip empty or invalid lines \n",
    "                parts = line.strip().split(\",\") \n",
    "                if len(parts) != 3: \n",
    "                    continue \n",
    "                roll, name, grade = parts \n",
    "                if roll == roll_no: \n",
    "                    print(f\"✅ Found: Roll: {roll} | Name: {name} | Grade:{grade}\") \n",
    "    \n",
    " #Call the search_student function\n",
    "search_student()"
   ]
  },
  {
   "cell_type": "markdown",
   "id": "7e59c4f8-1d7d-47e7-8f8d-9000203b18c2",
   "metadata": {},
   "source": [
    "Update Student Function:\n",
    "\n",
    "\n",
    "Updates a student's details based on their roll number.\n",
    "`username`: The username of the user updating the student.\n",
    "\n",
    "def update_student(username):\n",
    "    \"\"\"\n",
    "    Updates a student's details based on their roll number.\n",
    "    \"\"\"\n",
    "    - username: The username of the user updating the student.\n"
   ]
  },
  {
   "cell_type": "code",
   "execution_count": 9,
   "id": "3ef233dc-f146-4422-9ed8-8f05d8ef0c8f",
   "metadata": {},
   "outputs": [
    {
     "name": "stdout",
     "output_type": "stream",
     "text": [
      "Enter Username:  Serwaa\n",
      "Enter Password:  ········\n"
     ]
    },
    {
     "name": "stdout",
     "output_type": "stream",
     "text": [
      "\n",
      "✅ Login Successful!\n",
      "\n"
     ]
    },
    {
     "name": "stdout",
     "output_type": "stream",
     "text": [
      "Enter Roll Number to update:  3\n"
     ]
    },
    {
     "name": "stdout",
     "output_type": "stream",
     "text": [
      "Current Data → Name: Akosua Serwaa, Grade: A\n"
     ]
    },
    {
     "name": "stdout",
     "output_type": "stream",
     "text": [
      "Enter new Name:  Richard\n",
      "Enter new Grade:  B\n"
     ]
    },
    {
     "name": "stdout",
     "output_type": "stream",
     "text": [
      "✅ Student record updated.\n"
     ]
    }
   ],
   "source": [
    "def update_student(username): \n",
    "    roll_no = input(\"Enter Roll Number to update: \") \n",
    "    students = [] \n",
    "    updated = False \n",
    " \n",
    "    if os.path.exists(STUDENT_FILE): \n",
    "        with open(STUDENT_FILE, \"r\") as f: \n",
    "            students = f.readlines() \n",
    " \n",
    "        with open(STUDENT_FILE, \"w\") as f: \n",
    "            for line in students: \n",
    "                roll, name, grade = line.strip().split(\",\") \n",
    "                if roll == roll_no: \n",
    "                    print(f\"Current Data → Name: {name}, Grade: {grade}\") \n",
    "                    new_name = input(\"Enter new Name: \") \n",
    "                    new_grade = input(\"Enter new Grade: \") \n",
    "                    f.write(f\"{roll},{new_name},{new_grade}\\n\") \n",
    "                    updated = True \n",
    "                    log_activity(username, f\"Updated student {roll}\") \n",
    "                else: \n",
    "                    f.write(line) \n",
    " \n",
    "    if updated: \n",
    "        print(\"✅ Student record updated.\") \n",
    "    else: \n",
    "        print(\"❌ Student not found.\") \n",
    " \n",
    "# Call the update_student function\n",
    "authenticated_user = authenticate()\n",
    "if authenticated_user:\n",
    "    update_student(authenticated_user)\n",
    "else:\n",
    "    print(\"Authentication failed.\")\n"
   ]
  },
  {
   "cell_type": "markdown",
   "id": "04bf03e1-bac7-4a9b-a606-cb3cfa5b6bc7",
   "metadata": {},
   "source": [
    "\n",
    " Delete Student Function\n",
    "Deletes a student's record based on their roll number.\n",
    " `username`: The username of the user deleting the student.\n",
    "def delete_student(username):\n",
    "    \"\"\"\n",
    "    Deletes a student's record based on their roll number."
   ]
  },
  {
   "cell_type": "code",
   "execution_count": 10,
   "id": "603c19f3-56fc-443e-8f2f-f29a7e937c57",
   "metadata": {},
   "outputs": [
    {
     "name": "stdout",
     "output_type": "stream",
     "text": [
      "Enter Username:  Serwaa\n",
      "Enter Password:  ········\n"
     ]
    },
    {
     "name": "stdout",
     "output_type": "stream",
     "text": [
      "\n",
      "✅ Login Successful!\n",
      "\n"
     ]
    },
    {
     "name": "stdout",
     "output_type": "stream",
     "text": [
      "Enter Roll Number to delete:  3\n"
     ]
    },
    {
     "name": "stdout",
     "output_type": "stream",
     "text": [
      "✅ Student record deleted.\n"
     ]
    }
   ],
   "source": [
    "def delete_student(username): \n",
    "    roll_no = input(\"Enter Roll Number to delete: \") \n",
    "    students = [] \n",
    "    deleted = False \n",
    " \n",
    "    if os.path.exists(STUDENT_FILE): \n",
    "        with open(STUDENT_FILE, \"r\") as f: \n",
    "            students = f.readlines() \n",
    " \n",
    "        with open(STUDENT_FILE, \"w\") as f: \n",
    "            for line in students: \n",
    "                # Skip empty or invalid lines \n",
    "                parts = line.strip().split(\",\") \n",
    "                if len(parts) != 3: \n",
    "                    f.write(line)  # keep invalid lines unchanged \n",
    "                    continue \n",
    " \n",
    "                roll, name, grade = parts \n",
    "                if roll == roll_no: \n",
    "                    deleted = True \n",
    "                    # Log deletion \n",
    "                    log_activity(username, f\"Deleted student {roll}\") \n",
    "                else: \n",
    "                    f.write(line) \n",
    " \n",
    "    if deleted: \n",
    "        print(\"✅ Student record deleted.\") \n",
    "    else: \n",
    "        print(\"❌ Student not found.\") \n",
    "        \n",
    " # Call the delete_student function\n",
    "authenticated_user = authenticate()\n",
    "if authenticated_user:\n",
    "    delete_student(authenticated_user)\n",
    "else:\n",
    "    print(\"❌ Authentication failed. Please try again.\")"
   ]
  },
  {
   "cell_type": "markdown",
   "id": "8847337c-ffff-49dc-b4a7-d23525aad380",
   "metadata": {},
   "source": [
    "\n",
    " \n",
    " Generate Report Function:\n",
    "\n",
    "Generates a report based on student records, including the total number of students and the distribution of grades.\n",
    "\n",
    "def generate_report():\n",
    "    \"\"\"\n",
    "    Generates a report based on student records.\n",
    "    \"\"\"\n"
   ]
  },
  {
   "cell_type": "code",
   "execution_count": 11,
   "id": "8cbf1e26-5c27-4dda-bdd6-26bba8761613",
   "metadata": {},
   "outputs": [
    {
     "name": "stdout",
     "output_type": "stream",
     "text": [
      "\n",
      "📊 Student Report\n",
      "Total Students: 0\n"
     ]
    }
   ],
   "source": [
    "def generate_report(): \n",
    "    if not os.path.exists(STUDENT_FILE): \n",
    "        print(\"No records available.\") \n",
    "        return \n",
    " \n",
    "    total = 0 \n",
    "    grades = {} \n",
    "    with open(STUDENT_FILE, \"r\") as f: \n",
    "        for line in f: \n",
    "            roll, name, grade = line.strip().split(\",\") \n",
    "            total += 1 \n",
    "            grades[grade] = grades.get(grade, 0) + 1 \n",
    " \n",
    "    print(\"\\n📊 Student Report\") \n",
    "    print(f\"Total Students: {total}\") \n",
    "    for g, count in grades.items(): \n",
    "        print(f\"Grade {g}: {count} student(s)\")\n",
    "\n",
    "# Call the generate_report function\n",
    "generate_report()\n"
   ]
  },
  {
   "cell_type": "markdown",
   "id": "5eda328b-bf57-4224-aea3-5dc5a30262a3",
   "metadata": {},
   "source": [
    " Main Function:\n",
    "\n",
    "The Main function is the entry point of the Student Management System.\n",
    "The main function initializes the Student Management System, authenticates the user, and provides a menu-driven interface for various operations.\n",
    "\n",
    "\n",
    "def main():\n",
    "    \"\"\"\n",
    "    Initializes the Student Management System and provides a menu-driven interface.\n",
    "    \"\"\"\n",
    "\n",
    "\n",
    "    "
   ]
  },
  {
   "cell_type": "code",
   "execution_count": 17,
   "id": "71896606-3ed4-498a-8a7c-9bc2a5d5ea68",
   "metadata": {},
   "outputs": [
    {
     "name": "stdout",
     "output_type": "stream",
     "text": [
      "===== Student Management System =====\n"
     ]
    },
    {
     "name": "stdout",
     "output_type": "stream",
     "text": [
      "Enter Username:  Serwaa\n",
      "Enter Password:  ········\n"
     ]
    },
    {
     "name": "stdout",
     "output_type": "stream",
     "text": [
      "\n",
      "✅ Login Successful!\n",
      "\n",
      "\n",
      "--- Main Menu ---\n",
      "1. Add Student\n",
      "2. View All Students\n",
      "3. Search Student\n",
      "4. Update Student\n",
      "5. Delete Student\n",
      "6. Generate Report\n",
      "7. Logout & Exit\n"
     ]
    },
    {
     "name": "stdout",
     "output_type": "stream",
     "text": [
      "Enter choice:  1\n",
      "Enter Roll Number:  3\n",
      "Enter Name:  Akosua Serwaa\n",
      "Enter Grade:  A\n"
     ]
    },
    {
     "name": "stdout",
     "output_type": "stream",
     "text": [
      "✅ Student added successfully!\n",
      "\n",
      "--- Main Menu ---\n",
      "1. Add Student\n",
      "2. View All Students\n",
      "3. Search Student\n",
      "4. Update Student\n",
      "5. Delete Student\n",
      "6. Generate Report\n",
      "7. Logout & Exit\n"
     ]
    },
    {
     "name": "stdout",
     "output_type": "stream",
     "text": [
      "Enter choice:  2\n"
     ]
    },
    {
     "name": "stdout",
     "output_type": "stream",
     "text": [
      "\n",
      "--- Student Records ---\n",
      "Roll: 3 | Name: Akosua Serwaa | Grade: A\n",
      "\n",
      "--- Main Menu ---\n",
      "1. Add Student\n",
      "2. View All Students\n",
      "3. Search Student\n",
      "4. Update Student\n",
      "5. Delete Student\n",
      "6. Generate Report\n",
      "7. Logout & Exit\n"
     ]
    },
    {
     "name": "stdout",
     "output_type": "stream",
     "text": [
      "Enter choice:  3\n",
      "Enter Roll Number to search:  4\n"
     ]
    },
    {
     "name": "stdout",
     "output_type": "stream",
     "text": [
      "\n",
      "--- Main Menu ---\n",
      "1. Add Student\n",
      "2. View All Students\n",
      "3. Search Student\n",
      "4. Update Student\n",
      "5. Delete Student\n",
      "6. Generate Report\n",
      "7. Logout & Exit\n"
     ]
    },
    {
     "name": "stdout",
     "output_type": "stream",
     "text": [
      "Enter choice:  3\n",
      "Enter Roll Number to search:  3\n"
     ]
    },
    {
     "name": "stdout",
     "output_type": "stream",
     "text": [
      "✅ Found: Roll: 3 | Name: Akosua Serwaa | Grade:A\n",
      "\n",
      "--- Main Menu ---\n",
      "1. Add Student\n",
      "2. View All Students\n",
      "3. Search Student\n",
      "4. Update Student\n",
      "5. Delete Student\n",
      "6. Generate Report\n",
      "7. Logout & Exit\n"
     ]
    },
    {
     "name": "stdout",
     "output_type": "stream",
     "text": [
      "Enter choice:  4\n",
      "Enter Roll Number to update:  3\n"
     ]
    },
    {
     "name": "stdout",
     "output_type": "stream",
     "text": [
      "Current Data → Name: Akosua Serwaa, Grade: A\n"
     ]
    },
    {
     "name": "stdout",
     "output_type": "stream",
     "text": [
      "Enter new Name:  Richard\n",
      "Enter new Grade:  B\n"
     ]
    },
    {
     "name": "stdout",
     "output_type": "stream",
     "text": [
      "✅ Student record updated.\n",
      "\n",
      "--- Main Menu ---\n",
      "1. Add Student\n",
      "2. View All Students\n",
      "3. Search Student\n",
      "4. Update Student\n",
      "5. Delete Student\n",
      "6. Generate Report\n",
      "7. Logout & Exit\n"
     ]
    },
    {
     "name": "stdout",
     "output_type": "stream",
     "text": [
      "Enter choice:  5\n",
      "Enter Roll Number to delete:  3\n"
     ]
    },
    {
     "name": "stdout",
     "output_type": "stream",
     "text": [
      "✅ Student record deleted.\n",
      "\n",
      "--- Main Menu ---\n",
      "1. Add Student\n",
      "2. View All Students\n",
      "3. Search Student\n",
      "4. Update Student\n",
      "5. Delete Student\n",
      "6. Generate Report\n",
      "7. Logout & Exit\n"
     ]
    },
    {
     "name": "stdout",
     "output_type": "stream",
     "text": [
      "Enter choice:  6\n"
     ]
    },
    {
     "name": "stdout",
     "output_type": "stream",
     "text": [
      "\n",
      "📊 Student Report\n",
      "Total Students: 0\n",
      "\n",
      "--- Main Menu ---\n",
      "1. Add Student\n",
      "2. View All Students\n",
      "3. Search Student\n",
      "4. Update Student\n",
      "5. Delete Student\n",
      "6. Generate Report\n",
      "7. Logout & Exit\n"
     ]
    },
    {
     "name": "stdout",
     "output_type": "stream",
     "text": [
      "Enter choice:  7\n"
     ]
    },
    {
     "name": "stdout",
     "output_type": "stream",
     "text": [
      "👋 Goodbye!\n"
     ]
    }
   ],
   "source": [
    "def main(): \n",
    "    print(\"===== Student Management System =====\") \n",
    " \n",
    "    # Ensure admin user exists \n",
    "    if not os.path.exists(USER_FILE): \n",
    "        print(\"No users found. Create an Admin account.\") \n",
    "        uname = input(\"Set Admin Username: \") \n",
    "        pwd = getpass.getpass(\"Set Admin Password: \") \n",
    "        save_user(uname, pwd) \n",
    "        print(\"✅ Admin created! Please restart the program.\") \n",
    " \n",
    "    username = None \n",
    "    while not username: \n",
    "        username = authenticate() \n",
    " \n",
    "    # Menu \n",
    "    while True: \n",
    "        print(\"\\n--- Main Menu ---\") \n",
    "        print(\"1. Add Student\") \n",
    "        print(\"2. View All Students\") \n",
    "        print(\"3. Search Student\") \n",
    "        print(\"4. Update Student\") \n",
    "        print(\"5. Delete Student\") \n",
    "        print(\"6. Generate Report\") \n",
    "        print(\"7. Logout & Exit\") \n",
    " \n",
    "        choice = input(\"Enter choice: \") \n",
    " \n",
    "        if choice == \"1\": \n",
    "            add_student(username) \n",
    "        elif choice == \"2\": \n",
    "            view_students() \n",
    "        elif choice == \"3\": \n",
    "            search_student() \n",
    "        elif choice == \"4\": \n",
    "            update_student(username) \n",
    "        elif choice == \"5\": \n",
    "            delete_student(username) \n",
    "        elif choice == \"6\": \n",
    "            generate_report() \n",
    "        elif choice == \"7\": \n",
    "            log_activity(username, \"Logged out\") \n",
    "            print(\"👋 Goodbye!\") \n",
    "            break \n",
    "        else: \n",
    "            print(\"❌ Invalid choice! Please try again.\") \n",
    "\n",
    "if __name__ == \"__main__\": \n",
    "    main() \n",
    " \n",
    "\n",
    "\n"
   ]
  },
  {
   "cell_type": "code",
   "execution_count": null,
   "id": "ae2a8d38-aaad-4830-a4f8-35692504677e",
   "metadata": {},
   "outputs": [],
   "source": []
  }
 ],
 "metadata": {
  "kernelspec": {
   "display_name": "Python 3 (ipykernel)",
   "language": "python",
   "name": "python3"
  },
  "language_info": {
   "codemirror_mode": {
    "name": "ipython",
    "version": 3
   },
   "file_extension": ".py",
   "mimetype": "text/x-python",
   "name": "python",
   "nbconvert_exporter": "python",
   "pygments_lexer": "ipython3",
   "version": "3.13.5"
  }
 },
 "nbformat": 4,
 "nbformat_minor": 5
}
